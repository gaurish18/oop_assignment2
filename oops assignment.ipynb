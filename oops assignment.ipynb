{
 "cells": [
  {
   "cell_type": "markdown",
   "id": "7df362cf-eba7-44e9-94d5-a2216f19b336",
   "metadata": {},
   "source": [
    "In Python, you can open a file using the built-in open() function. The open() function is used to open a file and returns a file object that you can use for various file-related operations.\n",
    "\n",
    "The open() function takes two primary arguments:\n",
    "\n",
    "File Name (required): The name of the file you want to open, including the path if the file is not in the current working directory.\n",
    "Mode (optional): A string specifying the mode in which you want to open the file. If the mode is not provided, it defaults to 'r' (read mode).\n",
    "The different modes of opening a file are as follows:\n",
    "\n",
    "'r' (Read Mode):\n",
    "\n",
    "The default mode if not specified.\n",
    "Opens the file for reading.\n",
    "Raises an error if the file does not exist.\n",
    "'w' (Write Mode):\n",
    "\n",
    "Opens the file for writing.\n",
    "If the file exists, it truncates the file, removing all existing content.\n",
    "If the file does not exist, it creates a new empty file.\n",
    "'a' (Append Mode):\n",
    "\n",
    "Opens the file for writing.\n",
    "If the file exists, it appends new content to the end of the file without removing existing content.\n",
    "If the file does not exist, it creates a new empty file.\n",
    "'b' (Binary Mode):\n",
    "\n",
    "Used in conjunction with 'r', 'w', or 'a' to open the file in binary mode.\n",
    "For example, 'rb' for reading a binary file, 'wb' for writing a binary file.\n",
    "'t' (Text Mode) - Default:\n",
    "\n",
    "Used in conjunction with 'r', 'w', or 'a' to open the file in text mode.\n",
    "For example, 'rt' for reading a text file, 'wt' for writing a text file.\n",
    "'x' (Exclusive Creation Mode):\n",
    "\n",
    "Opens the file for exclusive creation.\n",
    "If the file already exists, it raises an error.\n",
    "'+' (Read and Write Mode):\n",
    "\n",
    "Used in conjunction with 'r', 'w', or 'a' to open the file for both reading and writing.\n",
    "For example, 'r+' for reading and writing a text file.\n"
   ]
  },
  {
   "cell_type": "markdown",
   "id": "1dda3ce9-e8a6-42a3-88eb-3da6d0502c7e",
   "metadata": {},
   "source": [
    "# Open a file in read mode\n",
    "file = open(\"example.txt\", \"r\")\n",
    "\n",
    "# Open a file in write mode (creates a new empty file)\n",
    "file = open(\"new_file.txt\", \"w\")\n",
    "\n",
    "# Open a file in append mode (creates a new empty file)\n",
    "file = open(\"append_file.txt\", \"a\")\n",
    "\n",
    "# Open a binary file in binary read mode\n",
    "file = open(\"binary_data.dat\", \"rb\")\n",
    "\n",
    "# Open a text file in text read and write mode\n",
    "file = open(\"text_file.txt\", \"r+\")\n"
   ]
  },
  {
   "cell_type": "markdown",
   "id": "bf27b88b-2b16-42ac-a72e-5705f1a60d25",
   "metadata": {},
   "source": []
  },
  {
   "cell_type": "markdown",
   "id": "655e2b26-d99d-476e-8b82-f32de8c3e424",
   "metadata": {},
   "source": [
    "The close() function is used to close a file that has been opened using the open() function in Python. It is essential to close a file for several important reasons:\n",
    "\n",
    "1.Resource Management: When you open a file, the operating system allocates system resources to manage that file, such as file handles and buffers. Failing to close a file can lead to resource leaks, which can be particularly problematic if your program opens a large number of files.\n",
    "\n",
    "2.Data Integrity: When you write data to a file, it may not be immediately flushed to the disk; instead, it might be held in a buffer. Closing the file ensures that any remaining data in the buffer is flushed and written to the file. If you don't close the file properly, some data may not be saved.\n",
    "\n",
    "3.Concurrency and Sharing: In many cases, other programs or processes may want to access the same file. Closing the file makes it available for other programs to access, reducing the risk of conflicts and ensuring proper data sharing.\n",
    "\n",
    "4.Portability: Properly closing files helps ensure your code is more portable across different platforms and systems. While most modern operating systems will automatically close files when your program exits, relying on this behavior is not a good practice, as it may not be consistent across all systems.\n",
    "\n",
    "To close a file, you can use the close() method of the file object. \n",
    "\n"
   ]
  },
  {
   "cell_type": "markdown",
   "id": "4c5bea83-0382-48df-8330-bf25f38591f3",
   "metadata": {},
   "source": [
    "file = open(\"example.txt\", \"r\")\n",
    "# Read or write operations go here\n",
    "file.close()  # Close the file when done\n"
   ]
  },
  {
   "cell_type": "markdown",
   "id": "efad9c7c-57f1-4348-9426-27cd54ea5aaf",
   "metadata": {},
   "source": [
    "An even better practice is to use a with statement, also known as a context manager, which ensures that the file is automatically closed when you exit the block. This way, you don't have to worry about explicitly calling close():"
   ]
  },
  {
   "cell_type": "markdown",
   "id": "eecae247-89e9-4ff8-9c03-1f13f0b35165",
   "metadata": {},
   "source": [
    "with open(\"example.txt\", \"r\") as file:\n",
    "    # Read or write operations go here\n",
    "# The file is automatically closed when the block is exited\n"
   ]
  },
  {
   "cell_type": "markdown",
   "id": "6e40346d-2dd2-4440-b4c7-3750268e7c1d",
   "metadata": {},
   "source": [
    "Using a with statement is the recommended way to work with files in Python because it ensures proper file handling and reduces the risk of resource leaks."
   ]
  },
  {
   "cell_type": "code",
   "execution_count": null,
   "id": "750e28f9-c018-4e6e-90f4-27a44473c1db",
   "metadata": {},
   "outputs": [],
   "source": []
  },
  {
   "cell_type": "code",
   "execution_count": 2,
   "id": "b8a96fd1-2097-451c-b667-9c487f9aba81",
   "metadata": {},
   "outputs": [
    {
     "name": "stdout",
     "output_type": "stream",
     "text": [
      "File Content:\n",
      "I want to become a Data Scientist\n"
     ]
    }
   ],
   "source": [
    "# Step 1: Create the text file and write content to it\n",
    "with open(\"data_scientist.txt\", \"w\") as file:\n",
    "    file.write(\"I want to become a Data Scientist\")\n",
    "\n",
    "# Step 2: Open the file and read its content\n",
    "with open(\"data_scientist.txt\", \"r\") as file:\n",
    "    content = file.read()\n",
    "\n",
    "print(\"File Content:\")\n",
    "print(content)\n"
   ]
  },
  {
   "cell_type": "code",
   "execution_count": null,
   "id": "1ef6978a-1251-4223-a679-46057e78deb6",
   "metadata": {},
   "outputs": [],
   "source": []
  },
  {
   "cell_type": "markdown",
   "id": "2cd5e31b-b374-4756-945d-cb90c2e76b8b",
   "metadata": {},
   "source": [
    "In Python, you can read data from a text file using the read(), readline(), and readlines() methods. These methods allow you to read text from a file in different ways.\n",
    "\n",
    "read() Method:\n",
    "The read() method reads the entire content of the file as a single string.\n",
    "It reads all characters from the current file pointer position to the end of the file or up to a specified number of characters if provided as an argument.\n",
    "If you don't specify the number of characters to read, it reads the entire file."
   ]
  },
  {
   "cell_type": "markdown",
   "id": "262db6e2-9bc5-4941-bd6a-7d895b12d0f3",
   "metadata": {},
   "source": [
    "with open(\"example.txt\", \"r\") as file:\n",
    "    content = file.read()\n",
    "    print(content)\n"
   ]
  },
  {
   "cell_type": "markdown",
   "id": "a3365e20-6969-418a-9bd5-bed552b72dea",
   "metadata": {},
   "source": [
    "readline() Method:\n",
    "The readline() method reads a single line from the file.\n",
    "It reads characters from the current file pointer position up to and including the next newline character ('\\n').\n",
    "Calling readline() multiple times will read subsequent lines one by one."
   ]
  },
  {
   "cell_type": "markdown",
   "id": "5445db4f-cf61-42cb-bfda-c2773b0934bc",
   "metadata": {},
   "source": [
    "with open(\"example.txt\", \"r\") as file:\n",
    "    line1 = file.readline()\n",
    "    line2 = file.readline()\n",
    "    print(\"Line 1:\", line1)\n",
    "    print(\"Line 2:\", line2)\n"
   ]
  },
  {
   "cell_type": "markdown",
   "id": "e25646e7-e437-4b3e-bdc2-32322e044cbf",
   "metadata": {},
   "source": [
    "readlines() Method:\n",
    "The readlines() method reads all lines from the file and returns them as a list of strings.\n",
    "Each element in the list represents a line of text, including the newline character ('\\n')."
   ]
  },
  {
   "cell_type": "markdown",
   "id": "10f95f1b-6483-455f-9677-b98d4009ff3e",
   "metadata": {},
   "source": [
    "with open(\"example.txt\", \"r\") as file:\n",
    "    lines = file.readlines()\n",
    "    for line in lines:\n",
    "        print(line, end=\"\")  # Avoids printing extra newline between lines\n"
   ]
  },
  {
   "cell_type": "markdown",
   "id": "86a2e072-e9b5-4557-9520-483cdb65b457",
   "metadata": {},
   "source": [
    "In all of the above examples, it's important to note that the file is opened in read mode (\"r\") before reading. You should replace \"example.txt\" with the name of the file you want to read.\n",
    "\n",
    "The read(), readline(), and readlines() methods are useful for reading and processing the contents of text files in different ways, depending on your specific needs."
   ]
  },
  {
   "cell_type": "code",
   "execution_count": null,
   "id": "c6fc6cce-0db7-4ceb-a2a6-03cd1638c14d",
   "metadata": {},
   "outputs": [],
   "source": []
  },
  {
   "cell_type": "markdown",
   "id": "d470f17d-c23d-4eee-8971-9290398ee175",
   "metadata": {},
   "source": [
    "The with statement is used with the open() function in Python to ensure that files are properly opened and closed. It provides a context manager that simplifies the process of file handling and offers several advantages:\n",
    "\n",
    "1.Automatic Resource Management: When you use the with statement with open(), it ensures that the file is automatically closed when the block is exited. This is particularly important for file handling because it releases system resources and prevents resource leaks. Without the with statement, you would need to explicitly call the close() method on the file object to ensure proper closure.\n",
    "\n",
    "2.Cleaner and More Readable Code: The with statement makes your code cleaner and more readable by clearly defining the scope in which the file is being used. It eliminates the need for explicit open() and close() calls, reducing the risk of errors and improving code maintainability.\n",
    "\n",
    "3.Exception Handling: The with statement provides built-in exception handling. If an exception occurs within the block, it ensures that the file is properly closed. Without the with statement, you would need to handle exceptions manually and ensure that the file is closed in both success and error cases.\n",
    "\n",
    "4.Improved Safety and Reliability: The with statement reduces the likelihood of leaving files open unintentionally. It helps prevent issues such as file corruption and resource exhaustion, which can occur when files are not closed properly."
   ]
  },
  {
   "cell_type": "markdown",
   "id": "c7cfdd39-86e8-47c3-b1ca-331035dda274",
   "metadata": {},
   "source": [
    "with open(\"example.txt\", \"r\") as file:\n",
    "    content = file.read()\n",
    "    print(content)\n",
    "# The file is automatically closed when the block is exited\n"
   ]
  },
  {
   "cell_type": "markdown",
   "id": "5612b53c-db93-4c2f-9de0-2ce1fba43135",
   "metadata": {},
   "source": [
    "In this example, the with statement ensures that the file is properly closed, and you don't need to worry about calling file.close() explicitly. The code is more concise, safer, and easier to read, making it a best practice for file handling in Python."
   ]
  },
  {
   "cell_type": "code",
   "execution_count": null,
   "id": "2906a302-df62-43fc-ba85-7a6fc7906a03",
   "metadata": {},
   "outputs": [],
   "source": []
  },
  {
   "cell_type": "markdown",
   "id": "a8aff6f1-e0f1-4db9-b95b-24ff9da32551",
   "metadata": {},
   "source": [
    "In Python, the write() and writelines() methods are used to write data to a file.\n",
    "\n",
    "write() Method:\n",
    "The write() method is used to write a single string to a file.\n",
    "It appends the specified string to the end of the file.\n",
    "If the file does not exist, it creates a new file with the specified name.\n",
    "If the file exists and is opened in write mode ('w' or 'a'), the content of the file is overwritten with the new string."
   ]
  },
  {
   "cell_type": "markdown",
   "id": "c3cf7fd0-e001-47a0-9351-318457d6a905",
   "metadata": {},
   "source": [
    "with open(\"output.txt\", \"w\") as file:\n",
    "    file.write(\"This is the first line of the file.\\n\")\n",
    "    file.write(\"This is the second line of the file.\")\n"
   ]
  },
  {
   "cell_type": "markdown",
   "id": "1ec3e579-57ad-448c-91b4-9dea2e5b4122",
   "metadata": {},
   "source": [
    "writelines() Method:\n",
    "The writelines() method is used to write a list of strings to a file.\n",
    "It takes an iterable (e.g., a list or a tuple) of strings as an argument and writes each string to the file.\n",
    "It does not add newline characters between the strings, so you need to include them if you want line breaks."
   ]
  },
  {
   "cell_type": "markdown",
   "id": "18febbc2-3086-4803-9e3e-a1b07d821be7",
   "metadata": {},
   "source": [
    "lines = [\"Line 1\\n\", \"Line 2\\n\", \"Line 3\\n\"]\n",
    "\n",
    "with open(\"output.txt\", \"w\") as file:\n",
    "    file.writelines(lines)\n"
   ]
  },
  {
   "cell_type": "markdown",
   "id": "e6a31ce6-93a0-47c1-819d-ce7d3677becf",
   "metadata": {},
   "source": [
    "In both examples, the content is written to a file named \"output.txt\" in write mode ('w'). If the file does not exist, it's created. If it does exist, the content is replaced with the new data.\n",
    "\n",
    "When using writelines(), make sure to include newline characters ('\\n') or any other desired separators between the lines to format the content correctly.\n",
    "\n",
    "After running these examples, the specified text will be written to the \"output.txt\" file."
   ]
  },
  {
   "cell_type": "code",
   "execution_count": null,
   "id": "ffec373f-6330-4d3b-91f0-799a05d8866e",
   "metadata": {},
   "outputs": [],
   "source": []
  }
 ],
 "metadata": {
  "kernelspec": {
   "display_name": "Python 3 (ipykernel)",
   "language": "python",
   "name": "python3"
  },
  "language_info": {
   "codemirror_mode": {
    "name": "ipython",
    "version": 3
   },
   "file_extension": ".py",
   "mimetype": "text/x-python",
   "name": "python",
   "nbconvert_exporter": "python",
   "pygments_lexer": "ipython3",
   "version": "3.10.8"
  }
 },
 "nbformat": 4,
 "nbformat_minor": 5
}
